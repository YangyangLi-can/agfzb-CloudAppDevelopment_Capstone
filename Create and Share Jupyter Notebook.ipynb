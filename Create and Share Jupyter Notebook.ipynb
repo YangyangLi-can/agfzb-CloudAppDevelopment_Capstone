{
 "cells": [
  {
   "attachments": {},
   "cell_type": "markdown",
   "metadata": {},
   "source": [
    "# Create and Share Jupyter Notebook\n"
   ]
  },
  {
   "attachments": {},
   "cell_type": "markdown",
   "metadata": {},
   "source": [
    "## Introduction\n",
    "\n",
    "Data Science is an interdisciplinary field that involves using scientific methods, algorithms, and systems to extract insights and knowledge from various forms of data. This notebook aims to introduce some of the popular data science languages, libraries, and tools used in the field and provide examples of arithmetic expressions commonly used in data analysis.\n",
    "\n"
   ]
  },
  {
   "attachments": {},
   "cell_type": "markdown",
   "metadata": {},
   "source": [
    "## data science languages\n",
    "- Python\n",
    "- R\n",
    "- SQL\n",
    "- Julia\n",
    "- SAS\n",
    "- MATLAB"
   ]
  },
  {
   "attachments": {},
   "cell_type": "markdown",
   "metadata": {},
   "source": [
    "## data science libraries\n",
    "- Pandas\n",
    "- NumPy\n",
    "- Matplotlib\n",
    "- Scikit-learn\n",
    "- TensorFlow\n",
    "- PyTorch"
   ]
  },
  {
   "attachments": {},
   "cell_type": "markdown",
   "metadata": {},
   "source": [
    "## Data Science Tools:\n",
    "\n",
    "| Tool | Functionality |\n",
    "|------|---------------|\n",
    "| Jupyter Notebook | Interactive computing environment |\n",
    "| Git | Version control system |\n",
    "| Docker | Containerization platform |\n",
    "| Apache Spark | Distributed computing framework |\n",
    "| Hadoop | Distributed storage and processing framework |\n",
    "| Tableau | Data visualization tool |\n",
    "| Anaconda | Python/R distribution with pre-installed packages |\n",
    "| Databricks | Cloud-based big data analytics platform |"
   ]
  },
  {
   "attachments": {},
   "cell_type": "markdown",
   "metadata": {},
   "source": [
    "## Introduction to Arithmetic Expressions\n",
    "Arithmetic expressions are mathematical calculations that involve one or more operators (+, -, *, /) and operands (numbers or variables). In data science, arithmetic expressions are often used to manipulate numerical data and perform calculations such as aggregations, transformations, and comparisons.\n",
    "\n"
   ]
  },
  {
   "cell_type": "code",
   "execution_count": 1,
   "metadata": {},
   "outputs": [
    {
     "name": "stdout",
     "output_type": "stream",
     "text": [
      "50\n",
      "15\n"
     ]
    }
   ],
   "source": [
    "## Multiplying and Adding Numbers\n",
    "\n",
    "a = 5\n",
    "b = 10\n",
    "\n",
    "c = a * b\n",
    "d = a + b\n",
    "\n",
    "print(c)\n",
    "print(d)\n"
   ]
  },
  {
   "cell_type": "code",
   "execution_count": 2,
   "metadata": {},
   "outputs": [
    {
     "name": "stdout",
     "output_type": "stream",
     "text": [
      "2.5\n"
     ]
    }
   ],
   "source": [
    "## Minutes to Hours\n",
    "minutes = 150\n",
    "\n",
    "hours = minutes / 60\n",
    "\n",
    "print(hours)\n"
   ]
  },
  {
   "attachments": {},
   "cell_type": "markdown",
   "metadata": {},
   "source": [
    "## Objectives\n",
    "- Introduce popular data science languages, libraries, and tools.\n",
    "- Provide examples of arithmetic expressions commonly used in data analysis."
   ]
  },
  {
   "attachments": {},
   "cell_type": "markdown",
   "metadata": {},
   "source": [
    "## Author's Name\n",
    "YANGYANG LI"
   ]
  },
  {
   "attachments": {},
   "cell_type": "markdown",
   "metadata": {},
   "source": [
    "## GitHub Link\n",
    "https://github.com/YangyangLi0528/agfzb-CloudAppDevelopment_Capstone/blob/master/Create%20and%20Share%20Jupyter%20Notebook.ipynb\n"
   ]
  }
 ],
 "metadata": {
  "kernelspec": {
   "display_name": "base",
   "language": "python",
   "name": "python3"
  },
  "language_info": {
   "codemirror_mode": {
    "name": "ipython",
    "version": 3
   },
   "file_extension": ".py",
   "mimetype": "text/x-python",
   "name": "python",
   "nbconvert_exporter": "python",
   "pygments_lexer": "ipython3",
   "version": "3.9.7"
  },
  "orig_nbformat": 4
 },
 "nbformat": 4,
 "nbformat_minor": 2
}
