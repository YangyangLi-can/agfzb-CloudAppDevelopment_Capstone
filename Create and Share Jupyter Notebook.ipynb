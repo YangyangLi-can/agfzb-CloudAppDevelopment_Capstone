{
 "cells": [
  {
   "attachments": {},
   "cell_type": "markdown",
   "metadata": {},
   "source": [
    "title: Create and Share Jpynb"
   ]
  },
  {
   "attachments": {},
   "cell_type": "markdown",
   "metadata": {},
   "source": [
    "Introduction:\n",
    "Data Science is an interdisciplinary field that involves using scientific methods, algorithms, and systems to extract insights and knowledge from various forms of data. This notebook aims to introduce some of the popular data science languages, libraries, and tools used in the field and provide examples of arithmetic expressions commonly used in data analysis.\n",
    "\n"
   ]
  },
  {
   "attachments": {},
   "cell_type": "markdown",
   "metadata": {},
   "source": [
    "data science languages: \n",
    "Python\n",
    "R\n",
    "SQL\n",
    "Julia\n",
    "SAS\n",
    "MATLAB"
   ]
  },
  {
   "attachments": {},
   "cell_type": "markdown",
   "metadata": {},
   "source": [
    "data science libraries: \n",
    "Pandas\n",
    "NumPy\n",
    "Matplotlib\n",
    "Scikit-learn\n",
    "TensorFlow\n",
    "PyTorch"
   ]
  },
  {
   "attachments": {},
   "cell_type": "markdown",
   "metadata": {},
   "source": [
    "Data Science Tools:\n",
    "\n",
    "Tool\tFunctionality\n",
    "Jupyter Notebook\tInteractive computing environment\n",
    "Git\tVersion control system\n",
    "Docker\tContainerization platform\n",
    "Apache Spark\tDistributed computing framework\n",
    "Hadoop\tDistributed storage and processing framework\n",
    "Tableau\tData visualization tool\n",
    "Anaconda\tPython/R distribution with pre-installed packages\n",
    "Databricks\tCloud-based big data analytics platform"
   ]
  },
  {
   "attachments": {},
   "cell_type": "markdown",
   "metadata": {},
   "source": [
    "Introduction to Arithmetic Expressions: Arithmetic expressions are mathematical calculations that involve one or more operators (+, -, *, /) and operands (numbers or variables). In data science, arithmetic expressions are often used to manipulate numerical data and perform calculations such as aggregations, transformations, and comparisons.\n",
    "\n"
   ]
  },
  {
   "cell_type": "code",
   "execution_count": null,
   "metadata": {
    "vscode": {
     "languageId": "plaintext"
    }
   },
   "outputs": [],
   "source": [
    "multiply and add numbers: \n",
    "a = 5\n",
    "b = 10\n",
    "\n",
    "c = a * b\n",
    "d = a + b\n",
    "\n",
    "print(c)\n",
    "print(d)"
   ]
  },
  {
   "cell_type": "code",
   "execution_count": null,
   "metadata": {
    "vscode": {
     "languageId": "plaintext"
    }
   },
   "outputs": [],
   "source": [
    "Minutes to Hours:\n",
    "minutes = 150\n",
    "\n",
    "hours = minutes / 60\n",
    "\n",
    "print(hours)"
   ]
  },
  {
   "attachments": {},
   "cell_type": "markdown",
   "metadata": {},
   "source": [
    "Objectives\n",
    "Introduce popular data science languages, libraries, and tools.\n",
    "Provide examples of arithmetic expressions commonly used in data analysis."
   ]
  },
  {
   "attachments": {},
   "cell_type": "markdown",
   "metadata": {},
   "source": [
    "Author’s name: YANGYANG LI"
   ]
  },
  {
   "attachments": {},
   "cell_type": "markdown",
   "metadata": {},
   "source": [
    "GitHub Link:\n",
    "https://github.com/YangyangLi0528/agfzb-CloudAppDevelopment_Capstone/tree/master"
   ]
  }
 ],
 "metadata": {
  "language_info": {
   "name": "python"
  },
  "orig_nbformat": 4
 },
 "nbformat": 4,
 "nbformat_minor": 2
}
